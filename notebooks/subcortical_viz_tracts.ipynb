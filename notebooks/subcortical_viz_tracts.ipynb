{
 "cells": [
  {
   "cell_type": "markdown",
   "id": "adjacent-mercy",
   "metadata": {},
   "source": [
    "Notebook whose primary function is to create large multipanel tractography visualizations across different datasets. Easier than copying a function across to dataset specific notebooks.\n",
    "\n",
    "Paths are (currently) specific to BIDS organization of Human Connectome Project (HCP)"
   ]
  },
  {
   "cell_type": "code",
   "execution_count": 7,
   "id": "coupled-blogger",
   "metadata": {},
   "outputs": [
    {
     "name": "stdout",
     "output_type": "stream",
     "text": [
      "Loading notebook session\n"
     ]
    }
   ],
   "source": [
    "import concurrent\n",
    "import itertools\n",
    "import os\n",
    "\n",
    "import dill\n",
    "import dipy.io.streamline\n",
    "import matplotlib as mpl\n",
    "import matplotlib.pyplot as plt\n",
    "import nibabel as nib\n",
    "import pandas as pd\n",
    "import seaborn as sns\n",
    "import svgutils\n",
    "from dipy.viz import colormap as cmap\n",
    "from fury import actor, window\n",
    "from IPython.display import HTML, clear_output\n",
    "from joblib import Parallel, delayed\n",
    "from joblib.pool import has_shareable_memory\n",
    "from matplotlib.animation import FuncAnimation\n",
    "from matplotlib.patches import Rectangle\n",
    "from tqdm import tqdm\n",
    "\n",
    "import warnings\n",
    "warnings.filterwarnings(\"ignore\")\n",
    "\n",
    "# Set number of processors for multiproccessing\n",
    "n_proc = 12\n",
    "\n",
    "# Define a function to handle importing database to avoid rerunning cells\n",
    "def handle_session(save=False):\n",
    "    if save:\n",
    "        print(\"Saving notebook session\")\n",
    "        dill.dump_session(os.path.realpath(\"./0_figures/connectivity_viz.db\"))\n",
    "    else:\n",
    "        print(\"Loading notebook session\")\n",
    "        dill.load_session(os.path.realpath(\"./0_figures/connectivity_viz.db\"))\n",
    "\n",
    "\n",
    "# Pandas settings\n",
    "pd.set_option(\"display.max_rows\", None)\n",
    "\n",
    "try:\n",
    "    handle_session()\n",
    "except:\n",
    "    raise FileNotFoundError(\n",
    "        \"\"\"No database found - please run the all of the following cells to\n",
    "    set up custom functions and perform analysis\"\"\"\n",
    "    )"
   ]
  },
  {
   "cell_type": "code",
   "execution_count": 2,
   "id": "knowing-dodge",
   "metadata": {},
   "outputs": [],
   "source": [
    "# Plot settings\n",
    "# Color friendly color cycle - gist.github.com/thriveth/8560036\n",
    "cb_color_cycle = [\n",
    "    \"#377eb8\",\n",
    "    \"#ff7f00\",\n",
    "    \"#4daf4a\",\n",
    "    \"#f781bf\",\n",
    "    \"#a65628\",\n",
    "    \"#984ea3\",\n",
    "    \"#999999\",\n",
    "    \"#e41a1c\",\n",
    "    \"#dede00\",\n",
    "]\n",
    "\n",
    "cmap = mpl.cm.get_cmap(\"viridis\")\n",
    "cmap.set_bad(\"black\")\n",
    "sns.set(\n",
    "    style=\"ticks\",\n",
    "    context=\"poster\",\n",
    "    rc={\n",
    "        \"image.cmap\": \"viridis\",\n",
    "        \"axes.prop_cycle\": plt.cycler(color=cb_color_cycle),\n",
    "        \"font.sans-serif\": \"Liberation Sans\",\n",
    "        \"font.monospace\": \"Liberation Sans\",\n",
    "        \"axes.titlesize\": 16,\n",
    "        \"axes.titleweight\": \"bold\",\n",
    "        \"axes.labelsize\": 14,\n",
    "        \"axes.labelweight\": \"bold\",\n",
    "        \"xtick.labelsize\": 12,\n",
    "        \"ytick.labelsize\": 12,\n",
    "        \"legend.fontsize\": 12,\n",
    "    },\n",
    ")\n",
    "\n",
    "boxprops = dict(edgecolor=\"white\", alpha=0.5)\n",
    "whiskerprops = dict(color=\"black\", linestyle=\"--\", alpha=0.5)\n",
    "capprops = dict(color=\"black\", alpha=0.5)\n",
    "medianprops = dict(color=\"white\", linewidth=2)"
   ]
  },
  {
   "cell_type": "code",
   "execution_count": 3,
   "id": "supreme-hands",
   "metadata": {},
   "outputs": [],
   "source": [
    "# Check intra vs inter hemispheric connectivity\n",
    "def check_hemi(node: int):\n",
    "    return \"Even\" if ((node % 2) == 0) else \"Odd\"\n",
    "\n",
    "\n",
    "def get_tract(subjid, dataset, node1, node2, tract_type):\n",
    "    tract_path = f\"{dataset}/derivatives/mrtpipelines_0.1.6/mrtpipelines/{subjid}/tractography/{tract_type}/{subjid}_space-dwi_desc-from_{node1}-{node2}.tck\"\n",
    "\n",
    "    if not os.path.exists(tract_path):\n",
    "        try:\n",
    "            os.system(\n",
    "                f\"tar -xf {dataset}/derivatives/mrtpipelines_0.1.6/mrtpipelines/{subjid}/tractography/{subjid}_edge.tar -C {dataset}/derivatives/mrtpipelines_0.1.6/mrtpipelines/{subjid}/tractography --wildcards *{node1}-{node2}.tck\"\n",
    "            )\n",
    "        except:\n",
    "            raise FileNotFoundError(\"Tract cannot be found in dataset\")\n",
    "\n",
    "    return tract_path\n",
    "\n",
    "\n",
    "def viz_tract(\n",
    "    subjid,\n",
    "    dataset,\n",
    "    node1,\n",
    "    node2,\n",
    "    interactive=False,\n",
    "    opacity=0.5,\n",
    "    size=(600, 600),\n",
    "):\n",
    "    \"\"\"\n",
    "    Visualize tract using `fury`.\n",
    "    By default, only show the tract from the test dataset\n",
    "\n",
    "    Eg. Interactive visualization of ansa, passing through 'fl' roi, thresholded at 25th percentile of CCI\n",
    "    viz_tract('sub-103818', 13, 69, roi='fl', perc=25, retest=True, interactive=True)\n",
    "\n",
    "    INPUTS:\n",
    "        subjid - ID of subject to visualize\n",
    "        dataset - top-level directory of dataset to visualize\n",
    "        node1 - terminal node for tract\n",
    "        node2 - other terminal node for trat\n",
    "        interactive - interactive visualization\n",
    "        opacity - opacity of tractography\n",
    "        size - figure window dimensions\n",
    "    \"\"\"\n",
    "\n",
    "    # Load anatomical reference and ROIs\n",
    "    if dataset.split(\"/\")[-1] == \"hcp_retest\":\n",
    "        dataset_base = dataset.replace(\"retest\", \"test\")\n",
    "    \n",
    "    anat_ref = nib.load(\n",
    "        f\"{dataset_base}/{subjid}/anat/{subjid}_acq-procHCP_T1w.nii.gz\"\n",
    "    )\n",
    "    anat_affine = anat_ref.affine\n",
    "    \n",
    "    subconn_roi = nib.load(\n",
    "        f\"{dataset_base}/derivatives/zona_bb_subcortex/{subjid}/anat/{subjid}_space-T1w_desc-ZonaBBSubCorSeg.nii.gz\"\n",
    "    )\n",
    "    subconn_roi = subconn_roi.get_fdata()\n",
    "\n",
    "    # Check type of connectivity\n",
    "    tract_type = \"edge\"\n",
    "\n",
    "    if check_hemi(node1) == check_hemi(node2):\n",
    "        conn = \"intra\"\n",
    "        if check_hemi(node1) == \"Odd\":\n",
    "            tract_left = get_tract(subjid, dataset, node1, node2, tract_type)\n",
    "            tract_right = get_tract(subjid, dataset, node1 + 1, node2 + 1, tract_type)\n",
    "            tck_left = dipy.io.streamline.load_tractogram(tract_left, anat_ref)\n",
    "            tck_right = dipy.io.streamline.load_tractogram(tract_right, anat_ref)\n",
    "\n",
    "            roi_left1 = subconn_roi == node1\n",
    "            roi_left2 = subconn_roi == node2\n",
    "            roi_right1 = subconn_roi == node1 + 1\n",
    "            roi_right2 = subconn_roi == node2 + 1\n",
    "        else:\n",
    "            tract_left = get_tract(subjid, dataset, node1 - 1, node2 - 1, tract_type)\n",
    "            tract_right = get_tract(subjid, dataset, node1 - 1, node2 - 1, tract_type)\n",
    "            tck_left = dipy.io.streamline.load_tractogram(tract_left, anat_ref)\n",
    "            tck_right = dipy.io.streamline.load_tractogram(tract_right, anat_ref)\n",
    "\n",
    "            roi_left1 = subconn_roi == node1 - 1\n",
    "            roi_left2 = subconn_roi == node2 - 1\n",
    "            roi_right1 = subconn_roi == node2\n",
    "            roi_right2 = subconn_roi == node2\n",
    "        \n",
    "    else:\n",
    "        conn = \"inter\"\n",
    "        tract = get_tract(subjid, dataset, node1, node2, tract_type)\n",
    "        tck = dipy.io.streamline.load_tractogram(tract, anat_ref)\n",
    "\n",
    "        roi1 = subconn_roi == node1\n",
    "        roi2 = subconn_roi == node2\n",
    "\n",
    "    # Setup actors & scene\n",
    "    scene = window.Scene()\n",
    "    scene.background([1, 1, 1])\n",
    "    tract_width = 2\n",
    "    roi_color = [0.2, 0.2, 0.2]\n",
    "    roi_opacity = 0.2\n",
    "    \n",
    "    if conn == \"intra\":\n",
    "        left_actor = actor.line(\n",
    "            tck_left.streamlines,\n",
    "            (0, 0.6, 0),\n",
    "            opacity=opacity,\n",
    "            linewidth=tract_width,\n",
    "            fake_tube=True,\n",
    "        )\n",
    "        right_actor = actor.line(\n",
    "            tck_right.streamlines,\n",
    "            (.8, 0.5, 0),\n",
    "            opacity=opacity,\n",
    "            linewidth=tract_width,\n",
    "            fake_tube=True,\n",
    "        )\n",
    "        \n",
    "        scene.add(left_actor)\n",
    "        scene.add(right_actor)\n",
    "        \n",
    "        roi_left1_actor = actor.contour_from_roi(roi_left1, anat_affine, roi_color, roi_opacity)\n",
    "        roi_left2_actor = actor.contour_from_roi(roi_left2, anat_affine, roi_color, roi_opacity)\n",
    "        roi_right1_actor = actor.contour_from_roi(roi_right1, anat_affine, roi_color, roi_opacity)\n",
    "        roi_right2_actor = actor.contour_from_roi(roi_right2, anat_affine, roi_color, roi_opacity)\n",
    "        \n",
    "        scene.add(roi_left1_actor)\n",
    "        scene.add(roi_left2_actor)\n",
    "        scene.add(roi_right1_actor)\n",
    "        scene.add(roi_right2_actor)\n",
    "        \n",
    "        del tck_left, tck_right\n",
    "        \n",
    "    else:\n",
    "        tck_actor = actor.line(\n",
    "            tck.streamlines,\n",
    "            (0, .7, .7),\n",
    "            linewidth=tract_width,\n",
    "            fake_tube=True,\n",
    "            opacity=opacity,\n",
    "        )\n",
    "        \n",
    "        scene.add(tck_actor)\n",
    "\n",
    "        roi1_actor = actor.contour_from_roi(roi1, anat_affine, roi_color, roi_opacity)\n",
    "        roi2_actor = actor.contour_from_roi(roi2, anat_affine, roi_color, roi_opacity)\n",
    "\n",
    "        scene.add(roi1_actor)\n",
    "        scene.add(roi2_actor)\n",
    "        \n",
    "        del tck\n",
    "\n",
    "    # Set coronal anterior\n",
    "    if interactive:\n",
    "        scene.yaw(90)\n",
    "        scene.pitch(-90)\n",
    "        window.show(scene, size=size)\n",
    "    else:\n",
    "        # Axial Superior\n",
    "        scene.roll(180)\n",
    "        scene.reset_camera()\n",
    "        axial_scene = window.snapshot(scene, size=size, offscreen=not(interactive))\n",
    "        scene.roll(-180)\n",
    "        \n",
    "        # Coronal Anterior\n",
    "        scene.yaw(90)\n",
    "        scene.pitch(-90)\n",
    "        scene.reset_camera()\n",
    "        coronal_scene = window.snapshot(scene, size=size, offscreen=not(interactive))\n",
    "        scene.pitch(90)\n",
    "        scene.yaw(-90)\n",
    "\n",
    "        # Sagittal Right\n",
    "        scene.pitch(90)\n",
    "        scene.reset_camera()\n",
    "        sagittal_scene = window.snapshot(scene, size=size, offscreen=not(interactive))\n",
    "        scene.pitch(-90)            \n",
    "    \n",
    "    if conn == \"intra\":\n",
    "        os.remove(tract_left)\n",
    "        os.remove(tract_right)\n",
    "        del tract_left, tract_right\n",
    "    else:\n",
    "        os.remove(tract)\n",
    "        del tract\n",
    "\n",
    "    del scene\n",
    "    if not(interactive):\n",
    "        return (coronal_scene, sagittal_scene, axial_scene)"
   ]
  },
  {
   "cell_type": "code",
   "execution_count": 4,
   "id": "secret-tuner",
   "metadata": {},
   "outputs": [],
   "source": [
    "def create_figure(node, dataset, dataset_fname):\n",
    "    # Grab nodes\n",
    "    print(f\"Node: {node}\")\n",
    "    node1, node2 = node.split(\"-\")\n",
    "    \n",
    "    # Create multipanel figure\n",
    "    fig = plt.figure(constrained_layout=True, figsize=(12, 7))\n",
    "    subfigs = fig.subfigures(7, 6, wspace=0.25, hspace=0.05)\n",
    "    \n",
    "    # Create individual subject panels\n",
    "    for ix, subj in enumerate(participants_df[0].tolist()):\n",
    "        print(f\"Creating scenes for {subj}\")\n",
    "        scenes = viz_tract(subj, f\"{hcp_dir}/{dataset}\", int(node1), int(node2), interactive=False, size=(2400, 2400))\n",
    "        \n",
    "        ax = subfigs[ix // 6][ix % 6].subplots(1, 3, sharey=True, gridspec_kw={\"wspace\": 0.})\n",
    "        for i in range(3):\n",
    "            ax[i].axis(\"off\")\n",
    "            ax[i].imshow(scenes[i], origin=\"lower\")\n",
    "        ax[0].set_title(\"Coronal-anterior\", size=4)\n",
    "        ax[1].set_title(\"Sagittal-left\", size=4)\n",
    "        ax[2].set_title(\"Axial-superior\", size=4)\n",
    "        subfigs[ix // 6][ix % 6].suptitle(f\"{subj}\", size=10)\n",
    "        \n",
    "        del scenes\n",
    "    \n",
    "    title = dataset.split(\"-\")\n",
    "    fig.suptitle(f\"{title[0].upper()} {title[0].capitalize()}\")\n",
    "    \n",
    "    # Save figure\n",
    "    os.system(f\"mkdir -p 0_figures/{dataset}\")\n",
    "    plt.savefig(f\"0_figures/{dataset}/sub-{dataset_fname}_desc-{int(node1)}-{int(node2)}_tracts.svg\", \n",
    "                dpi=960, bbox_inches=\"tight\", facecolor=\"white\")\n",
    "    plt.close()\n",
    "    \n",
    "    del fig, subfigs\n",
    "    \n",
    "    clear_output(wait=True)"
   ]
  },
  {
   "cell_type": "code",
   "execution_count": 30,
   "id": "three-federation",
   "metadata": {},
   "outputs": [],
   "source": [
    "viz_tract(\"sub-103818\", \"/home/ROBARTS/tkai/graham/scratch/Zona/data/hcp1200_3T_2/hcp_retest\", 13, 69, interactive=True)"
   ]
  },
  {
   "cell_type": "code",
   "execution_count": 5,
   "id": "coated-truth",
   "metadata": {},
   "outputs": [],
   "source": [
    "# Thresholded nodes\n",
    "nodes = pd.read_csv(\"/home/ROBARTS/tkai/graham/scratch/Zona/notebooks/hcp1200_3T/hcp1200_3T_TestvRetest_Thresholded.csv\", sep=\",\")[\"Nodes\"].tolist()\n",
    "\n",
    "# Dataset directories\n",
    "hcp_dir = \"/home/ROBARTS/tkai/graham/scratch/Zona/data/hcp1200_3T_2\""
   ]
  },
  {
   "cell_type": "markdown",
   "id": "clear-chancellor",
   "metadata": {},
   "source": [
    "## HCP Test vs Retest"
   ]
  },
  {
   "cell_type": "code",
   "execution_count": 6,
   "id": "ongoing-import",
   "metadata": {},
   "outputs": [
    {
     "name": "stdout",
     "output_type": "stream",
     "text": [
      "Saving notebook session\n"
     ]
    }
   ],
   "source": [
    "# Subjects dropped from analysis due to missing data or non matching sequences\n",
    "drop_subj = [601127, 192439, 137128, 135528, 169343, 151526, 660951]\n",
    "drop_subj = [f\"sub-{subj}\" for subj in drop_subj]\n",
    "drop_subj\n",
    "\n",
    "participants_df = pd.read_csv(f\"{hcp_dir}/participants.tsv\", sep=\"\\t\", header=None)\n",
    "participants_df = participants_df[~participants_df[0].isin(drop_subj)].reset_index().drop(columns=\"index\")\n",
    "\n",
    "handle_session(save=True)"
   ]
  },
  {
   "cell_type": "code",
   "execution_count": 12,
   "id": "funny-serve",
   "metadata": {},
   "outputs": [
    {
     "name": "stdout",
     "output_type": "stream",
     "text": [
      "Finished creating multi-panel figures for HCP Test\n"
     ]
    }
   ],
   "source": [
    "# Spawn a child process for each iteration to deal with memory leak from fury\n",
    "for node in tqdm(nodes): \n",
    "    with concurrent.futures.ProcessPoolExecutor(max_workers=1) as executor:\n",
    "        executor.submit(create_figure, node, \"hcp_test\", \"HCPTest\")\n",
    "\n",
    "clear_output(wait=False)\n",
    "print(\"Finished creating multi-panel figures for HCP Test\")"
   ]
  },
  {
   "cell_type": "code",
   "execution_count": 9,
   "id": "excess-curve",
   "metadata": {},
   "outputs": [
    {
     "name": "stderr",
     "output_type": "stream",
     "text": [
      "  0%|          | 0/186 [00:00<?, ?it/s]"
     ]
    },
    {
     "name": "stdout",
     "output_type": "stream",
     "text": [
      "Node: 1-14\n",
      "Creating scenes for sub-103818\n",
      "Creating scenes for sub-105923\n"
     ]
    },
    {
     "name": "stderr",
     "output_type": "stream",
     "text": [
      "  1%|          | 1/186 [00:04<13:23,  4.34s/it]"
     ]
    },
    {
     "name": "stdout",
     "output_type": "stream",
     "text": [
      "Node: 1-2\n",
      "Creating scenes for sub-103818\n",
      "Creating scenes for sub-105923\n"
     ]
    },
    {
     "name": "stderr",
     "output_type": "stream",
     "text": [
      "  1%|          | 2/186 [00:08<12:45,  4.16s/it]"
     ]
    },
    {
     "name": "stdout",
     "output_type": "stream",
     "text": [
      "Node: 1-4\n",
      "Creating scenes for sub-103818\n",
      "Creating scenes for sub-105923\n"
     ]
    },
    {
     "name": "stderr",
     "output_type": "stream",
     "text": [
      "  2%|▏         | 3/186 [00:12<12:52,  4.22s/it]"
     ]
    },
    {
     "name": "stdout",
     "output_type": "stream",
     "text": [
      "Node: 11-12\n",
      "Creating scenes for sub-103818\n"
     ]
    },
    {
     "name": "stderr",
     "output_type": "stream",
     "text": [
      "  2%|▏         | 3/186 [00:13<13:21,  4.38s/it]\n"
     ]
    },
    {
     "ename": "KeyboardInterrupt",
     "evalue": "",
     "output_type": "error",
     "traceback": [
      "\u001b[0;31m---------------------------------------------------------------------------\u001b[0m",
      "\u001b[0;31mKeyboardInterrupt\u001b[0m                         Traceback (most recent call last)",
      "\u001b[0;32m<ipython-input-9-8156bfcbeffc>\u001b[0m in \u001b[0;36m<module>\u001b[0;34m\u001b[0m\n\u001b[1;32m      2\u001b[0m \u001b[0;32mfor\u001b[0m \u001b[0mnode\u001b[0m \u001b[0;32min\u001b[0m \u001b[0mtqdm\u001b[0m\u001b[0;34m(\u001b[0m\u001b[0mnodes\u001b[0m\u001b[0;34m)\u001b[0m\u001b[0;34m:\u001b[0m\u001b[0;34m\u001b[0m\u001b[0;34m\u001b[0m\u001b[0m\n\u001b[1;32m      3\u001b[0m     \u001b[0;32mwith\u001b[0m \u001b[0mconcurrent\u001b[0m\u001b[0;34m.\u001b[0m\u001b[0mfutures\u001b[0m\u001b[0;34m.\u001b[0m\u001b[0mProcessPoolExecutor\u001b[0m\u001b[0;34m(\u001b[0m\u001b[0mmax_workers\u001b[0m\u001b[0;34m=\u001b[0m\u001b[0;36m1\u001b[0m\u001b[0;34m)\u001b[0m \u001b[0;32mas\u001b[0m \u001b[0mexecutor\u001b[0m\u001b[0;34m:\u001b[0m\u001b[0;34m\u001b[0m\u001b[0;34m\u001b[0m\u001b[0m\n\u001b[0;32m----> 4\u001b[0;31m         \u001b[0mexecutor\u001b[0m\u001b[0;34m.\u001b[0m\u001b[0msubmit\u001b[0m\u001b[0;34m(\u001b[0m\u001b[0mcreate_figure\u001b[0m\u001b[0;34m,\u001b[0m \u001b[0mnode\u001b[0m\u001b[0;34m,\u001b[0m \u001b[0;34m\"hcp_retest\"\u001b[0m\u001b[0;34m,\u001b[0m \u001b[0;34m\"HCPRetest\"\u001b[0m\u001b[0;34m)\u001b[0m\u001b[0;34m\u001b[0m\u001b[0;34m\u001b[0m\u001b[0m\n\u001b[0m\u001b[1;32m      5\u001b[0m \u001b[0;34m\u001b[0m\u001b[0m\n\u001b[1;32m      6\u001b[0m \u001b[0mclear_output\u001b[0m\u001b[0;34m(\u001b[0m\u001b[0mwait\u001b[0m\u001b[0;34m=\u001b[0m\u001b[0;32mFalse\u001b[0m\u001b[0;34m)\u001b[0m\u001b[0;34m\u001b[0m\u001b[0;34m\u001b[0m\u001b[0m\n",
      "\u001b[0;32m/usr/lib/python3.7/concurrent/futures/_base.py\u001b[0m in \u001b[0;36m__exit__\u001b[0;34m(self, exc_type, exc_val, exc_tb)\u001b[0m\n\u001b[1;32m    621\u001b[0m \u001b[0;34m\u001b[0m\u001b[0m\n\u001b[1;32m    622\u001b[0m     \u001b[0;32mdef\u001b[0m \u001b[0m__exit__\u001b[0m\u001b[0;34m(\u001b[0m\u001b[0mself\u001b[0m\u001b[0;34m,\u001b[0m \u001b[0mexc_type\u001b[0m\u001b[0;34m,\u001b[0m \u001b[0mexc_val\u001b[0m\u001b[0;34m,\u001b[0m \u001b[0mexc_tb\u001b[0m\u001b[0;34m)\u001b[0m\u001b[0;34m:\u001b[0m\u001b[0;34m\u001b[0m\u001b[0;34m\u001b[0m\u001b[0m\n\u001b[0;32m--> 623\u001b[0;31m         \u001b[0mself\u001b[0m\u001b[0;34m.\u001b[0m\u001b[0mshutdown\u001b[0m\u001b[0;34m(\u001b[0m\u001b[0mwait\u001b[0m\u001b[0;34m=\u001b[0m\u001b[0;32mTrue\u001b[0m\u001b[0;34m)\u001b[0m\u001b[0;34m\u001b[0m\u001b[0;34m\u001b[0m\u001b[0m\n\u001b[0m\u001b[1;32m    624\u001b[0m         \u001b[0;32mreturn\u001b[0m \u001b[0;32mFalse\u001b[0m\u001b[0;34m\u001b[0m\u001b[0;34m\u001b[0m\u001b[0m\n\u001b[1;32m    625\u001b[0m \u001b[0;34m\u001b[0m\u001b[0m\n",
      "\u001b[0;32m/usr/lib/python3.7/concurrent/futures/process.py\u001b[0m in \u001b[0;36mshutdown\u001b[0;34m(self, wait)\u001b[0m\n\u001b[1;32m    679\u001b[0m             \u001b[0mself\u001b[0m\u001b[0;34m.\u001b[0m\u001b[0m_queue_management_thread_wakeup\u001b[0m\u001b[0;34m.\u001b[0m\u001b[0mwakeup\u001b[0m\u001b[0;34m(\u001b[0m\u001b[0;34m)\u001b[0m\u001b[0;34m\u001b[0m\u001b[0;34m\u001b[0m\u001b[0m\n\u001b[1;32m    680\u001b[0m             \u001b[0;32mif\u001b[0m \u001b[0mwait\u001b[0m\u001b[0;34m:\u001b[0m\u001b[0;34m\u001b[0m\u001b[0;34m\u001b[0m\u001b[0m\n\u001b[0;32m--> 681\u001b[0;31m                 \u001b[0mself\u001b[0m\u001b[0;34m.\u001b[0m\u001b[0m_queue_management_thread\u001b[0m\u001b[0;34m.\u001b[0m\u001b[0mjoin\u001b[0m\u001b[0;34m(\u001b[0m\u001b[0;34m)\u001b[0m\u001b[0;34m\u001b[0m\u001b[0;34m\u001b[0m\u001b[0m\n\u001b[0m\u001b[1;32m    682\u001b[0m         \u001b[0;31m# To reduce the risk of opening too many files, remove references to\u001b[0m\u001b[0;34m\u001b[0m\u001b[0;34m\u001b[0m\u001b[0;34m\u001b[0m\u001b[0m\n\u001b[1;32m    683\u001b[0m         \u001b[0;31m# objects that use file descriptors.\u001b[0m\u001b[0;34m\u001b[0m\u001b[0;34m\u001b[0m\u001b[0;34m\u001b[0m\u001b[0m\n",
      "\u001b[0;32m/usr/lib/python3.7/threading.py\u001b[0m in \u001b[0;36mjoin\u001b[0;34m(self, timeout)\u001b[0m\n\u001b[1;32m   1042\u001b[0m \u001b[0;34m\u001b[0m\u001b[0m\n\u001b[1;32m   1043\u001b[0m         \u001b[0;32mif\u001b[0m \u001b[0mtimeout\u001b[0m \u001b[0;32mis\u001b[0m \u001b[0;32mNone\u001b[0m\u001b[0;34m:\u001b[0m\u001b[0;34m\u001b[0m\u001b[0;34m\u001b[0m\u001b[0m\n\u001b[0;32m-> 1044\u001b[0;31m             \u001b[0mself\u001b[0m\u001b[0;34m.\u001b[0m\u001b[0m_wait_for_tstate_lock\u001b[0m\u001b[0;34m(\u001b[0m\u001b[0;34m)\u001b[0m\u001b[0;34m\u001b[0m\u001b[0;34m\u001b[0m\u001b[0m\n\u001b[0m\u001b[1;32m   1045\u001b[0m         \u001b[0;32melse\u001b[0m\u001b[0;34m:\u001b[0m\u001b[0;34m\u001b[0m\u001b[0;34m\u001b[0m\u001b[0m\n\u001b[1;32m   1046\u001b[0m             \u001b[0;31m# the behavior of a negative timeout isn't documented, but\u001b[0m\u001b[0;34m\u001b[0m\u001b[0;34m\u001b[0m\u001b[0;34m\u001b[0m\u001b[0m\n",
      "\u001b[0;32m/usr/lib/python3.7/threading.py\u001b[0m in \u001b[0;36m_wait_for_tstate_lock\u001b[0;34m(self, block, timeout)\u001b[0m\n\u001b[1;32m   1058\u001b[0m         \u001b[0;32mif\u001b[0m \u001b[0mlock\u001b[0m \u001b[0;32mis\u001b[0m \u001b[0;32mNone\u001b[0m\u001b[0;34m:\u001b[0m  \u001b[0;31m# already determined that the C code is done\u001b[0m\u001b[0;34m\u001b[0m\u001b[0;34m\u001b[0m\u001b[0m\n\u001b[1;32m   1059\u001b[0m             \u001b[0;32massert\u001b[0m \u001b[0mself\u001b[0m\u001b[0;34m.\u001b[0m\u001b[0m_is_stopped\u001b[0m\u001b[0;34m\u001b[0m\u001b[0;34m\u001b[0m\u001b[0m\n\u001b[0;32m-> 1060\u001b[0;31m         \u001b[0;32melif\u001b[0m \u001b[0mlock\u001b[0m\u001b[0;34m.\u001b[0m\u001b[0macquire\u001b[0m\u001b[0;34m(\u001b[0m\u001b[0mblock\u001b[0m\u001b[0;34m,\u001b[0m \u001b[0mtimeout\u001b[0m\u001b[0;34m)\u001b[0m\u001b[0;34m:\u001b[0m\u001b[0;34m\u001b[0m\u001b[0;34m\u001b[0m\u001b[0m\n\u001b[0m\u001b[1;32m   1061\u001b[0m             \u001b[0mlock\u001b[0m\u001b[0;34m.\u001b[0m\u001b[0mrelease\u001b[0m\u001b[0;34m(\u001b[0m\u001b[0;34m)\u001b[0m\u001b[0;34m\u001b[0m\u001b[0;34m\u001b[0m\u001b[0m\n\u001b[1;32m   1062\u001b[0m             \u001b[0mself\u001b[0m\u001b[0;34m.\u001b[0m\u001b[0m_stop\u001b[0m\u001b[0;34m(\u001b[0m\u001b[0;34m)\u001b[0m\u001b[0;34m\u001b[0m\u001b[0;34m\u001b[0m\u001b[0m\n",
      "\u001b[0;31mKeyboardInterrupt\u001b[0m: "
     ]
    }
   ],
   "source": [
    "# Spawn a child process for each iteration to deal with memory leak from fury\n",
    "for node in tqdm(nodes): \n",
    "    with concurrent.futures.ProcessPoolExecutor(max_workers=1) as executor:\n",
    "        executor.submit(create_figure, node, \"hcp_retest\", \"HCPRetest\")\n",
    "\n",
    "clear_output(wait=False)\n",
    "print(\"Finished creating multi-panel figures for HCP Retest\")"
   ]
  },
  {
   "cell_type": "code",
   "execution_count": null,
   "id": "enclosed-tuition",
   "metadata": {},
   "outputs": [],
   "source": []
  }
 ],
 "metadata": {
  "kernelspec": {
   "display_name": "jupytervenv",
   "language": "python",
   "name": "jupytervenv"
  },
  "language_info": {
   "codemirror_mode": {
    "name": "ipython",
    "version": 3
   },
   "file_extension": ".py",
   "mimetype": "text/x-python",
   "name": "python",
   "nbconvert_exporter": "python",
   "pygments_lexer": "ipython3",
   "version": "3.7.12"
  }
 },
 "nbformat": 4,
 "nbformat_minor": 5
}
